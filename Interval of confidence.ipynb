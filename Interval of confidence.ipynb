{
 "cells": [
  {
   "cell_type": "markdown",
   "metadata": {},
   "source": [
    "# Calculating Interval of confidence for controlled experiment"
   ]
  },
  {
   "cell_type": "markdown",
   "metadata": {},
   "source": [
    "> **Guillaume  Guy**  \n",
    "> Data Science Manager, BCG GAMMA (current), AlixPartners, Opera Solutions  \n",
    "> San Francisco, CA"
   ]
  },
  {
   "cell_type": "markdown",
   "metadata": {},
   "source": [
    "**This workbook enables the computation of interval of confidence of the uplift for a controlled experiment**   \n",
    "\n",
    " Steps are:    \n",
    "     1- For each population (test,control), the observed response rate is drawn from a beta distribution  \n",
    "     2- By simulating draws from the distributions, we can draw the probability density function of the uplift   \n",
    "\n",
    "Inputs:   \n",
    "     Kt,Nt e.g. 12,100 # 12% response rate in test group     \n",
    "     Kc,Nc e.g. 100,1000 # 10% response rate in control group\n",
    "\n",
    "Outputs:    \n",
    "     A set of functions to quickly analyze performance"
   ]
  },
  {
   "cell_type": "code",
   "execution_count": 19,
   "metadata": {},
   "outputs": [],
   "source": [
    "import numpy as np\n",
    "from scipy.stats import beta    \n",
    "import matplotlib.pyplot as plt\n",
    "import pandas as pd"
   ]
  },
  {
   "cell_type": "code",
   "execution_count": 14,
   "metadata": {},
   "outputs": [],
   "source": [
    "# Parameters\n",
    "Kt,Nt = 12,100 # 12% response rate in test group\n",
    "Kc,Nc = 100,1000 # 10% response rate in test group"
   ]
  },
  {
   "cell_type": "code",
   "execution_count": 38,
   "metadata": {},
   "outputs": [],
   "source": [
    "class controlled_experiment:\n",
    "\n",
    "    def __init__(self,Kt,Nt,Kc,Nc,simulation_size=10000):\n",
    "        if( (Kt > Nt) | (Kc > Nc) ):\n",
    "            raise Exception(\"Kt (Kc) should be less or equal to Nt (Nc)\")\n",
    "        self.Kt = Kt\n",
    "        self.Kc = Kc\n",
    "        self.Nt = Nt\n",
    "        self.Nc = Nc\n",
    "        self.size = simulation_size\n",
    "        \n",
    "    def get_posterior(self,population='test',**kwargs):\n",
    "        ''' Posterior of p(R / k), that is probability distribution of the actual conversion rate knowing k '''\n",
    "        if(population=='test'):\n",
    "            return self.__get_posterior_pdf(self.Kt,self.Nt,**kwargs)\n",
    "        elif(population=='control'):\n",
    "            return self.__get_posterior_pdf(self.Kc,self.Nc,**kwargs)\n",
    "        else:\n",
    "            raise Exception('%s is not a recognized population. Valid args: [control,test] ' %population )\n",
    "    \n",
    "    def draw_posterior_distribution(self):\n",
    "        x = max([Kt * 1.0 / Nt,Kt * 1.0 / Nt])\n",
    "        rge = np.arange(0,x * 2 , step = x * 0.01)\n",
    "        rge1, pc = self.__get_posterior_pdf(self.Kc,self.Nc)\n",
    "        rge2, pt = self.__get_posterior_pdf(self.Kt,self.Nt)\n",
    "        plt.scatter(rge1,pc)\n",
    "        plt.scatter(rge2,pt)\n",
    "        plt.legend(['test posterior', 'control posterior'])\n",
    "    \n",
    "    def __get_posterior_pdf(self,k,n,rge=None):\n",
    "        x =  k * 1.0 / n\n",
    "        step = 0.01 * x \n",
    "        if (rge == None):\n",
    "            rge = np.arange(start= 0 ,stop=  x * 2 , step = step)\n",
    "        return rge,[beta.pdf(x=i, a = k + 1, b = n - k + 1 ) for i in rge]\n",
    "    \n",
    "    def uplift_distribution(self,size=10000):\n",
    "        rt = beta.rvs(a= self.Kt + 1, b = self.Nt - self.Kt + 1, size=self.size)\n",
    "        rc = beta.rvs(a= self.Kc + 1, b = self.Nc - self.Kc + 1, size=self.size)\n",
    "        return ( rt / rc - 1 ) \n",
    "\n",
    "    def draw_uplift_distribution(self):\n",
    "        draw = self.uplift_distribution()\n",
    "        plt.hist(draw,bins=200,density=True)\n",
    "        plt.title = 'Probability distribution of uplift'\n",
    "        plt.xlabel('Uplift')\n",
    "        plt.ylabel('Probability density')\n",
    "        plt.axvline(x=draw.mean())\n",
    "        plt.show()\n",
    "        \n",
    "    def uplift_percentiles(self,percentile = None):\n",
    "        x = self.uplift_distribution()\n",
    "        if(percentile == None):\n",
    "            rge = np.arange(1,99,1)\n",
    "        elif(type(percentile) == int):\n",
    "            rge = [percentile]\n",
    "        else:\n",
    "            rge = percentile\n",
    "        \n",
    "        if(len(rge) == 1 & ( min(rge) < 1 or max(rge) > 99 )):\n",
    "            raise Exception('percentile needs to be between 1 and 99' )\n",
    "\n",
    "        v = np.percentile(x, q = rge)\n",
    "        a = pd.DataFrame(rge,columns=['percentile']) \n",
    "        a['value'] = v\n",
    "        return a"
   ]
  },
  {
   "cell_type": "code",
   "execution_count": 39,
   "metadata": {},
   "outputs": [
    {
     "data": {
      "image/png": "[encoded data removed]",
      "text/plain": [
       "<Figure size 432x288 with 1 Axes>"
      ]
     },
     "metadata": {},
     "output_type": "display_data"
    }
   ],
   "source": [
    "ce = controlled_experiment(Kt,Nt, Kc, Nc)\n",
    "\n",
    "ce.draw_posterior_distribution()"
   ]
  },
  {
   "cell_type": "code",
   "execution_count": 40,
   "metadata": {},
   "outputs": [
    {
     "data": {
      "image/png": "[encoded data removed]",
      "text/plain": [
       "<Figure size 432x288 with 1 Axes>"
      ]
     },
     "metadata": {},
     "output_type": "display_data"
    }
   ],
   "source": [
    "ce.draw_uplift_distribution()"
   ]
  },
  {
   "cell_type": "code",
   "execution_count": 41,
   "metadata": {},
   "outputs": [
    {
     "data": {
      "text/html": [
       "<div>\n",
       "<style scoped>\n",
       "    .dataframe tbody tr th:only-of-type {\n",
       "        vertical-align: middle;\n",
       "    }\n",
       "\n",
       "    .dataframe tbody tr th {\n",
       "        vertical-align: top;\n",
       "    }\n",
       "\n",
       "    .dataframe thead th {\n",
       "        text-align: right;\n",
       "    }\n",
       "</style>\n",
       "<table border=\"1\" class=\"dataframe\">\n",
       "  <thead>\n",
       "    <tr style=\"text-align: right;\">\n",
       "      <th></th>\n",
       "      <th>percentile</th>\n",
       "      <th>value</th>\n",
       "    </tr>\n",
       "  </thead>\n",
       "  <tbody>\n",
       "    <tr>\n",
       "      <th>0</th>\n",
       "      <td>60</td>\n",
       "      <td>0.334777</td>\n",
       "    </tr>\n",
       "  </tbody>\n",
       "</table>\n",
       "</div>"
      ],
      "text/plain": [
       "   percentile     value\n",
       "0          60  0.334777"
      ]
     },
     "execution_count": 41,
     "metadata": {},
     "output_type": "execute_result"
    }
   ],
   "source": [
    "# 60% of the uplift values are below 0.334777\n",
    "ce.uplift_percentiles([60])"
   ]
  },
  {
   "cell_type": "code",
   "execution_count": 54,
   "metadata": {},
   "outputs": [
    {
     "data": {
      "text/html": [
       "<div>\n",
       "<style scoped>\n",
       "    .dataframe tbody tr th:only-of-type {\n",
       "        vertical-align: middle;\n",
       "    }\n",
       "\n",
       "    .dataframe tbody tr th {\n",
       "        vertical-align: top;\n",
       "    }\n",
       "\n",
       "    .dataframe thead th {\n",
       "        text-align: right;\n",
       "    }\n",
       "</style>\n",
       "<table border=\"1\" class=\"dataframe\">\n",
       "  <thead>\n",
       "    <tr style=\"text-align: right;\">\n",
       "      <th></th>\n",
       "      <th>percentile</th>\n",
       "      <th>value</th>\n",
       "    </tr>\n",
       "  </thead>\n",
       "  <tbody>\n",
       "    <tr>\n",
       "      <th>0</th>\n",
       "      <td>5</td>\n",
       "      <td>-0.243900</td>\n",
       "    </tr>\n",
       "    <tr>\n",
       "      <th>1</th>\n",
       "      <td>50</td>\n",
       "      <td>0.245449</td>\n",
       "    </tr>\n",
       "    <tr>\n",
       "      <th>2</th>\n",
       "      <td>95</td>\n",
       "      <td>0.899833</td>\n",
       "    </tr>\n",
       "  </tbody>\n",
       "</table>\n",
       "</div>"
      ],
      "text/plain": [
       "   percentile     value\n",
       "0           5 -0.243900\n",
       "1          50  0.245449\n",
       "2          95  0.899833"
      ]
     },
     "execution_count": 54,
     "metadata": {},
     "output_type": "execute_result"
    }
   ],
   "source": [
    "# Feeding a list yields a dataframe denoting interval of confidence\n",
    "ce.uplift_percentiles([5,50,95])"
   ]
  }
 ],
 "metadata": {
  "kernelspec": {
   "display_name": "Python 3",
   "language": "python",
   "name": "python3"
  },
  "language_info": {
   "codemirror_mode": {
    "name": "ipython",
    "version": 3
   },
   "file_extension": ".py",
   "mimetype": "text/x-python",
   "name": "python",
   "nbconvert_exporter": "python",
   "pygments_lexer": "ipython3",
   "version": "3.6.5"
  }
 },
 "nbformat": 4,
 "nbformat_minor": 2
}
